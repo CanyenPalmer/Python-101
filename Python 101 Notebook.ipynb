{
 "cells": [
  {
   "cell_type": "markdown",
   "id": "fa3a2932",
   "metadata": {},
   "source": [
    "# Python 101, Basic Python Programming:\n",
    "- These are some python functions that are not only easily comprehendable, but the backbone to programming\n",
    "- Thank you to the multitude of resources available when making my own version of this\n",
    "- Follow Canyen Palmer for more coding examples, I would love to connect and show you what I have been working on!\n",
    "\n",
    "# Program 1\n",
    "\n",
    "Write a Pythyon program that prints a \"Hello\" statement:"
   ]
  },
  {
   "cell_type": "code",
   "execution_count": 50,
   "id": "ed6c3769",
   "metadata": {},
   "outputs": [
    {
     "name": "stdout",
     "output_type": "stream",
     "text": [
      "Hello, my name is Canyen Palmer\n",
      "Thank you so much for checking out my code!\n",
      "I am available on LinkedIn, GitHub, and my own website @PalmerProjects - Canyen Palmer\n",
      "I look forward to making new connections and creating new content!\n"
     ]
    }
   ],
   "source": [
    "print(\"Hello, my name is Canyen Palmer\")\n",
    "print(\"Thank you so much for checking out my code!\")\n",
    "print(\"I am available on LinkedIn, GitHub, and my own website @PalmerProjects - Canyen Palmer\")\n",
    "print(\"I look forward to making new connections and creating new content!\")"
   ]
  },
  {
   "cell_type": "markdown",
   "id": "f39d14c6",
   "metadata": {},
   "source": [
    "# Program 2\n",
    "\n",
    "Write a program thaaat performs some basic operations. Exxamples: Addition and Division:"
   ]
  },
  {
   "cell_type": "code",
   "execution_count": 34,
   "id": "18ae51df",
   "metadata": {},
   "outputs": [
    {
     "name": "stdout",
     "output_type": "stream",
     "text": [
      "sum: 10.0 + 5.0 = 15.0\n"
     ]
    }
   ],
   "source": [
    "# Addition\n",
    "num1 = float(input(\"Enter the first number that you would like to use in your addition problem: \"))\n",
    "num2 = float(input(\"Enter the second number, the one that you would like to add to the first: \"))\n",
    "sum_result = num1 + num2\n",
    "print(f\"sum: {num1} + {num2} = {sum_result}\")"
   ]
  },
  {
   "cell_type": "code",
   "execution_count": 35,
   "id": "b623ac54",
   "metadata": {},
   "outputs": [
    {
     "name": "stdout",
     "output_type": "stream",
     "text": [
      "Division Equation: 10.0/5.0 = 2.0\n"
     ]
    }
   ],
   "source": [
    "# Division\n",
    "num3 = float(input(\"enter the number that you want to be divided: \"))\n",
    "num4 = float(input(\"Enter the number that will divide the first! Example| Enter 2 if you want the first number divided twice: \"))\n",
    "if num4 == 0:\n",
    "    print(\"Error: number must be a whole number greater than 0\")\n",
    "else: \n",
    "    div_result = num3/num4\n",
    "    print(f\"Division Equation: {num3}/{num4} = {div_result}\")"
   ]
  },
  {
   "cell_type": "markdown",
   "id": "1c27f680",
   "metadata": {},
   "source": [
    "# Program 3\n",
    "\n",
    "Write a Python program to find the area of a triangle (you will set the parameters for the triangles length):"
   ]
  },
  {
   "cell_type": "code",
   "execution_count": 36,
   "id": "0c836180",
   "metadata": {},
   "outputs": [
    {
     "name": "stdout",
     "output_type": "stream",
     "text": [
      "The area of the triangle entered by the user is: 25.0\n"
     ]
    }
   ],
   "source": [
    "# Input the base and height of the triangle from the user:\n",
    "base = float(input(\"Enter the length of the base for the triangle you are finding the area for: \"))\n",
    "height = float(input(\"Enter the height of the desired triangle: \"))\n",
    "# Calculations for finding the area of a triangle\n",
    "area = 0.5*base*height \n",
    "# Print the result\n",
    "print(f\"The area of the triangle entered by the user is: {area}\")"
   ]
  },
  {
   "cell_type": "markdown",
   "id": "670ffa1c",
   "metadata": {},
   "source": [
    "# Program 4\n",
    "\n",
    "Write a Python program that swaps two variables and their positions:"
   ]
  },
  {
   "cell_type": "code",
   "execution_count": 37,
   "id": "87b567e7",
   "metadata": {},
   "outputs": [
    {
     "name": "stdout",
     "output_type": "stream",
     "text": [
      "Original Values: a = 10, b = 5\n",
      "Swapped Values: a = 5, b = 10\n"
     ]
    }
   ],
   "source": [
    "# Input the two variables you would like to swap places\n",
    "a = input(\"Enter the value of the first variable for swap: (a) \")\n",
    "b = input(\"Entter the value of the second variablle for swap: (b) \")\n",
    "# Display the original values to know that the command is running\n",
    "print(f\"Original Values: a = {a}, b = {b}\")\n",
    "# Swap the values by using a temporary variable\n",
    "temp = a\n",
    "a = b\n",
    "b = temp\n",
    "# Display the swapped values using a print function\n",
    "print(f\"Swapped Values: a = {a}, b = {b}\")"
   ]
  },
  {
   "cell_type": "markdown",
   "id": "81704325",
   "metadata": {},
   "source": [
    "# Program 5\n",
    "\n",
    "Write a Python program that generates a random whole number from (1-1,000,000):"
   ]
  },
  {
   "cell_type": "code",
   "execution_count": 38,
   "id": "27d5e64e",
   "metadata": {},
   "outputs": [
    {
     "name": "stdout",
     "output_type": "stream",
     "text": [
      "Random number: 732776\n"
     ]
    }
   ],
   "source": [
    "import random\n",
    "print(f\"Random number: {random.randint(1,1000000)}\")"
   ]
  },
  {
   "cell_type": "markdown",
   "id": "7f484d5b",
   "metadata": {},
   "source": [
    "# Program 6\n",
    "\n",
    "Write a Python program that converts kilometers to miles:\n"
   ]
  },
  {
   "cell_type": "code",
   "execution_count": 39,
   "id": "6573dc00",
   "metadata": {},
   "outputs": [
    {
     "name": "stdout",
     "output_type": "stream",
     "text": [
      "10.0 kilometes is equal to 6.21371 miles\n"
     ]
    }
   ],
   "source": [
    "kilometers = float(input(\"Enter the distance in Kilometers: \"))\n",
    "# Conversion Factor: 1 kilometer = 0.621371\n",
    "conversion_factor = 0.621371\n",
    "\n",
    "miles = kilometers * conversion_factor\n",
    "\n",
    "print(f\"{kilometers} kilometes is equal to {miles} miles\")"
   ]
  },
  {
   "cell_type": "markdown",
   "id": "2bce42e3",
   "metadata": {},
   "source": [
    "# Program 7\n",
    "\n",
    "Write a Python program that conmverts Celsius to Fahrenheit:"
   ]
  },
  {
   "cell_type": "code",
   "execution_count": 42,
   "id": "6e71f899",
   "metadata": {},
   "outputs": [
    {
     "name": "stdout",
     "output_type": "stream",
     "text": [
      "10.0 degrees Celsius is equal to 50.0 degrees Farenheit! \n"
     ]
    }
   ],
   "source": [
    "celsius = float(input(\"Enter temperature in celsius: \"))\n",
    "# Conversion formula: Farenheit = (Celsius * 9/5) + 32\n",
    "farenheit = (celsius * 9/5) + 32\n",
    "\n",
    "print(f\"{celsius} degrees Celsius is equal to {farenheit} degrees Farenheit! \")"
   ]
  },
  {
   "cell_type": "markdown",
   "id": "5ef5e07c",
   "metadata": {},
   "source": [
    "# Program 8\n",
    "\n",
    "Write a python code to display as calendar to the user:"
   ]
  },
  {
   "cell_type": "code",
   "execution_count": 44,
   "id": "d78907df",
   "metadata": {},
   "outputs": [
    {
     "name": "stdout",
     "output_type": "stream",
     "text": [
      "      May 1995\n",
      "Mo Tu We Th Fr Sa Su\n",
      " 1  2  3  4  5  6  7\n",
      " 8  9 10 11 12 13 14\n",
      "15 16 17 18 19 20 21\n",
      "22 23 24 25 26 27 28\n",
      "29 30 31\n",
      "\n"
     ]
    }
   ],
   "source": [
    "import calendar\n",
    "\n",
    "year = int(input(\"What year are you looking for (number)?: \"))\n",
    "month = int(input(\"What month are you looking for (number)?: \"))\n",
    "\n",
    "cal = calendar.month(year, month)\n",
    "print(cal)"
   ]
  },
  {
   "cell_type": "markdown",
   "id": "db77fd30",
   "metadata": {},
   "source": [
    "# Program 9\n",
    "\n",
    "Write a python program to solve quadratic equations:\n",
    "\n",
    "The standard form of a quadratic equation is:\n",
    "- ax^2 + bx + c = 0\n",
    "\n",
    "where:\n",
    "- a, b, and c are real numbers & a=/0\n",
    "\n",
    "The solutions of this quadratic eqation is given by:\n",
    "- (-b+-(b^2-4ac)^1/2)/(2a)\n"
   ]
  },
  {
   "cell_type": "code",
   "execution_count": 49,
   "id": "9f3192f1",
   "metadata": {},
   "outputs": [
    {
     "name": "stdout",
     "output_type": "stream",
     "text": [
      "Entered Coefficients: a = 2.0, b = 8.0, c = 16.0\n",
      "Root 1 Result: -2.0 + 2.0i\n",
      "Root 2 Result: -2.0 - 2.0i\n"
     ]
    }
   ],
   "source": [
    "import math\n",
    "\n",
    "# Input the coefficients:\n",
    "a = float(input(\"Enter the coefficient you want to use for variable a: \"))\n",
    "b = float(input(\"Enter the coefficient you want to use for variable b: \"))\n",
    "c = float(input(\"Enter the coefficient you want to use for variable c: \"))\n",
    "print(f\"Entered Coefficients: a = {a}, b = {b}, c = {c}\")\n",
    "# Calculate the discriminant:\n",
    "discriminant = b**2 - 4*a*c\n",
    "\n",
    "# Determine the discriminants value (positive, negative, or zero):\n",
    "# Calculations for 2 whole integers for variables\n",
    "if discriminant > 0:\n",
    "    root1 = (-b + math.sqrt(discriminant)) / (2*a)\n",
    "    root2 = (-b + math.sqrt(discriminant)) / (2*a)\n",
    "    print(f\"Root 1: {root1}\")\n",
    "    print(f\"Root 1: {root2}\")\n",
    "# Calculations for one real root (repeated)\n",
    "elif discriminant ==0:\n",
    "    root = -b / (2*a)\n",
    "    print(f\"Root: {root}\")\n",
    "# Calculations for complex roots\n",
    "else:\n",
    "    real_part = -b / (2*a)\n",
    "    imaginary_part = math.sqrt(abs(discriminant)) / (2*a)\n",
    "    print(f\"Root 1 Result: {real_part} + {imaginary_part}i\")\n",
    "    print(f\"Root 2 Result: {real_part} - {imaginary_part}i\")"
   ]
  },
  {
   "cell_type": "markdown",
   "id": "0dc80c35",
   "metadata": {},
   "source": [
    "# Program 10\n",
    "\n",
    "Write a python program to swap two variables without temporary variable: "
   ]
  },
  {
   "cell_type": "code",
   "execution_count": null,
   "id": "3f316e81",
   "metadata": {},
   "outputs": [
    {
     "name": "stdout",
     "output_type": "stream",
     "text": [
      "After swapping:\n",
      "a = 20\n",
      "b = 10\n"
     ]
    }
   ],
   "source": [
    "a = 10\n",
    "b = 20\n",
    "\n",
    "# Swap the variables without using a temporary variable:\n",
    "a, b = b, a\n",
    "print(\"After swapping:\")\n",
    "print( \"a =\", a)\n",
    "print( \"b =\", b)"
   ]
  },
  {
   "cell_type": "markdown",
   "id": "4277eb24",
   "metadata": {},
   "source": [
    "# Program 11\n",
    "\n",
    "Write a python program to check if a numerical value of a integer (positive, negative, or zero):"
   ]
  },
  {
   "cell_type": "code",
   "execution_count": 56,
   "id": "947005b8",
   "metadata": {},
   "outputs": [
    {
     "name": "stdout",
     "output_type": "stream",
     "text": [
      "The number entered is a Positive number\n"
     ]
    }
   ],
   "source": [
    "num = int(input(\"Enter a number: \"))\n",
    "\n",
    "if num > 0:\n",
    "    print(\"The number entered is a Positive number\")\n",
    "elif num == 0:\n",
    "    print(\"The number entered was 0\")\n",
    "else:\n",
    "    print(\"The number entered is a Negative number\")"
   ]
  },
  {
   "cell_type": "markdown",
   "id": "f0e2d32e",
   "metadata": {},
   "source": [
    "# Program 12\n",
    "\n",
    "Write a python program to check if a number is even or odd:\n"
   ]
  },
  {
   "cell_type": "code",
   "execution_count": 63,
   "id": "a79440ab",
   "metadata": {},
   "outputs": [
    {
     "name": "stdout",
     "output_type": "stream",
     "text": [
      "Entered number:  10\n",
      "This is a even number\n"
     ]
    }
   ],
   "source": [
    "num = int(input(\"Enter the desired number: \"))\n",
    "print(\"Entered number: \",num)\n",
    "\n",
    "if num%2 == 0:\n",
    "    print(\"This is a even number\")\n",
    "else:\n",
    "    print(\"this is a odd number\")"
   ]
  },
  {
   "cell_type": "markdown",
   "id": "58cd82cc",
   "metadata": {},
   "source": [
    "# Program 13\n",
    "\n",
    "Write a python program to check if the entered year will be a Leap Year: "
   ]
  },
  {
   "cell_type": "code",
   "execution_count": 74,
   "id": "f86146c6",
   "metadata": {},
   "outputs": [
    {
     "name": "stdout",
     "output_type": "stream",
     "text": [
      "The entered year was:  1005\n",
      "1005 is a not leap year\n"
     ]
    }
   ],
   "source": [
    "year = int(input(\"Enter a year: \"))\n",
    "print (\"The entered year was: \", (year))\n",
    "\n",
    "\n",
    "# If the entered year is divisible by 400 or 100 (century year), it is a leap year \n",
    "if (year % 400 == 0) and (year % 100 == 0):\n",
    "    print(\"{0} is a leap year\".format(year))\n",
    "\n",
    "# If the entered year cannot be divided by 100, it is not a century year\n",
    "# If the year can be divided by 4, it is a Leap Year\n",
    "elif (year % 4 == 0) and (year % 100 != 0):\n",
    "    print(\"{0} is a leap year\".format(year))\n",
    "\n",
    "# If the entered year is cannot be divided by either 400 (century years) or 4 (other years):\n",
    "# the yeear entered is not a Leap Year\n",
    "else:\n",
    "    print(\"{0} is a not leap year\".format(year))\n"
   ]
  },
  {
   "cell_type": "markdown",
   "id": "a728d98c",
   "metadata": {},
   "source": [
    "# Program 14\n",
    "\n",
    "Write a python program to check if the user's input is a Prime number or not:\n",
    "\n",
    "Prime Numbers:\n",
    "- A prime number is a whole integer that cannot be evenly divided by any other number except for 1 and itself. \n",
    "- Examples: 1, 3, 5, 7, 9, 11, 13, 17, 23, etc"
   ]
  },
  {
   "cell_type": "code",
   "execution_count": 97,
   "id": "72a1e19d",
   "metadata": {},
   "outputs": [
    {
     "name": "stdout",
     "output_type": "stream",
     "text": [
      "Entered number:  3\n",
      "3 is a prime number! \n"
     ]
    }
   ],
   "source": [
    "num = int(input(\"Enter a number: \"))\n",
    "print (\"Entered number: \", (num))\n",
    "\n",
    "# Define a flag variable:\n",
    "flag = False\n",
    "\n",
    "if num == 1: \n",
    "    print(f\"{num}, is not a prime number\")\n",
    "elif num > 1:\n",
    "    # Check for any factors:\n",
    "    # Range is (2 to infinity)\n",
    "    for i in range (2, num):\n",
    "        if (num % i) == 0:\n",
    "            flag = True\n",
    "            break\n",
    "# Check if flag is True: \n",
    "if flag:\n",
    "    print (f\"{num} is not a prime number! \")\n",
    "else:\n",
    "    print (f\"{num} is a prime number! \")"
   ]
  },
  {
   "cell_type": "markdown",
   "id": "f9940d0b",
   "metadata": {},
   "source": [
    "# Program 15\n",
    "\n",
    "Write a python program to print All prime numbers in a set interval:\n",
    "- we will set our range from (1 - 1,000)\n",
    "\n"
   ]
  },
  {
   "cell_type": "code",
   "execution_count": 85,
   "id": "9ab8e995",
   "metadata": {},
   "outputs": [
    {
     "name": "stdout",
     "output_type": "stream",
     "text": [
      "Prime numbers between 1 and 1000 are: \n",
      "2\n",
      "3\n",
      "5\n",
      "7\n",
      "11\n",
      "13\n",
      "17\n",
      "19\n",
      "23\n",
      "29\n",
      "31\n",
      "37\n",
      "41\n",
      "43\n",
      "47\n",
      "53\n",
      "59\n",
      "61\n",
      "67\n",
      "71\n",
      "73\n",
      "79\n",
      "83\n",
      "89\n",
      "97\n",
      "101\n",
      "103\n",
      "107\n",
      "109\n",
      "113\n",
      "127\n",
      "131\n",
      "137\n",
      "139\n",
      "149\n",
      "151\n",
      "157\n",
      "163\n",
      "167\n",
      "173\n",
      "179\n",
      "181\n",
      "191\n",
      "193\n",
      "197\n",
      "199\n",
      "211\n",
      "223\n",
      "227\n",
      "229\n",
      "233\n",
      "239\n",
      "241\n",
      "251\n",
      "257\n",
      "263\n",
      "269\n",
      "271\n",
      "277\n",
      "281\n",
      "283\n",
      "293\n",
      "307\n",
      "311\n",
      "313\n",
      "317\n",
      "331\n",
      "337\n",
      "347\n",
      "349\n",
      "353\n",
      "359\n",
      "367\n",
      "373\n",
      "379\n",
      "383\n",
      "389\n",
      "397\n",
      "401\n",
      "409\n",
      "419\n",
      "421\n",
      "431\n",
      "433\n",
      "439\n",
      "443\n",
      "449\n",
      "457\n",
      "461\n",
      "463\n",
      "467\n",
      "479\n",
      "487\n",
      "491\n",
      "499\n",
      "503\n",
      "509\n",
      "521\n",
      "523\n",
      "541\n",
      "547\n",
      "557\n",
      "563\n",
      "569\n",
      "571\n",
      "577\n",
      "587\n",
      "593\n",
      "599\n",
      "601\n",
      "607\n",
      "613\n",
      "617\n",
      "619\n",
      "631\n",
      "641\n",
      "643\n",
      "647\n",
      "653\n",
      "659\n",
      "661\n",
      "673\n",
      "677\n",
      "683\n",
      "691\n",
      "701\n",
      "709\n",
      "719\n",
      "727\n",
      "733\n",
      "739\n",
      "743\n",
      "751\n",
      "757\n",
      "761\n",
      "769\n",
      "773\n",
      "787\n",
      "797\n",
      "809\n",
      "811\n",
      "821\n",
      "823\n",
      "827\n",
      "829\n",
      "839\n",
      "853\n",
      "857\n",
      "859\n",
      "863\n",
      "877\n",
      "881\n",
      "883\n",
      "887\n",
      "907\n",
      "911\n",
      "919\n",
      "929\n",
      "937\n",
      "941\n",
      "947\n",
      "953\n",
      "967\n",
      "971\n",
      "977\n",
      "983\n",
      "991\n",
      "997\n"
     ]
    }
   ],
   "source": [
    "# Set your interval\n",
    "lower = 1\n",
    "upper = 1000\n",
    "print (\"Prime numbers between\", lower, \"and\", upper, \"are: \")\n",
    "for num in range (lower, upper + 1):\n",
    "    if num > 1:\n",
    "        for i in range (2, num):\n",
    "            if (num % i) == 0:\n",
    "                break\n",
    "        else:\n",
    "            print (num)"
   ]
  },
  {
   "cell_type": "markdown",
   "id": "d32062f9",
   "metadata": {},
   "source": [
    "# Program 16\n",
    "\n",
    "Write a python program to find the Factorial of the user's entered number:"
   ]
  },
  {
   "cell_type": "code",
   "execution_count": 89,
   "id": "afd2cad6",
   "metadata": {},
   "outputs": [
    {
     "name": "stdout",
     "output_type": "stream",
     "text": [
      "The factorial of 4 is 24\n"
     ]
    }
   ],
   "source": [
    "num = int(input(\"Enter a number: \"))\n",
    "factorial = 1\n",
    "if num < 0:\n",
    "    print(\"Factorial does not exist for negative numbers\")\n",
    "elif num == 0:\n",
    "    print(\"Factorial of 0 is 1\")\n",
    "else:\n",
    "    for i in range(1, num + 1):\n",
    "        factorial = factorial * i\n",
    "    print(f'The factorial of {num} is {factorial}')"
   ]
  },
  {
   "cell_type": "markdown",
   "id": "ff471f22",
   "metadata": {},
   "source": [
    "# Program 17\n",
    "\n",
    "Write a python program to Display the Multiplication Table:\n",
    "- Displays the user's input to the 10th multiple"
   ]
  },
  {
   "cell_type": "code",
   "execution_count": 91,
   "id": "22835b63",
   "metadata": {},
   "outputs": [
    {
     "name": "stdout",
     "output_type": "stream",
     "text": [
      "20 X 1 = 20\n",
      "20 X 2 = 40\n",
      "20 X 3 = 60\n",
      "20 X 4 = 80\n",
      "20 X 5 = 100\n",
      "20 X 6 = 120\n",
      "20 X 7 = 140\n",
      "20 X 8 = 160\n",
      "20 X 9 = 180\n",
      "20 X 10 = 200\n"
     ]
    }
   ],
   "source": [
    "num = int(input(\"Display multiplication table of: \"))\n",
    "for i in range (1, 11):\n",
    "    print (f\"{num} X {i} = {num * i}\")"
   ]
  },
  {
   "cell_type": "markdown",
   "id": "b5f90400",
   "metadata": {},
   "source": [
    "# Program 18\n",
    "\n",
    "Write a python program to Print the Fibonacci Sequence:\n",
    "\n",
    "Fibonacci Sequence:\n",
    "- The Fibonacci sequence is a series of numbers where each number is the sum of the two proceding onces, typically starting with 0 and 1\n",
    "- Beginning with 0 and 1, and the next number is obtained by adding the previous\n",
    "\n",
    "Example:\n",
    "0, 1, 1, 2, 3, 5, 6, 13, 21 ect...\n",
    "\n",
    "Mathematically, the Fibonacci Sequence can be defined using a recurrence relation:\n",
    "- F(0) = 0F(1) = 1F(n)= F(n-1) + F(n-2) , for n > 1"
   ]
  },
  {
   "cell_type": "code",
   "execution_count": 95,
   "id": "8411c07b",
   "metadata": {},
   "outputs": [
    {
     "name": "stdout",
     "output_type": "stream",
     "text": [
      "Fibonacci Sequence:\n",
      "0\n",
      "1\n",
      "1\n",
      "2\n",
      "3\n",
      "5\n",
      "8\n",
      "13\n",
      "21\n",
      "34\n"
     ]
    }
   ],
   "source": [
    "nterms = int(input(\"How many terms? \"))\n",
    "\n",
    "# Input the first two numbers of the Fibonacci Sequence: \n",
    "n1, n2 = 0, 1\n",
    "count = 0\n",
    "\n",
    "# Confirm the numbers are valid:\n",
    "if nterms <= 0:\n",
    "    print(\"Please enter a positive integer!\")\n",
    "\n",
    "# if there is only one term, return n1\n",
    "elif nterms == 1:\n",
    "    print (\"Fibonacci Sequence up to\", nterms, \":\")\n",
    "    print(n1)\n",
    "\n",
    "# Generate the sequence using the user's input:\n",
    "else:\n",
    "    print(\"Fibonacci Sequence:\")\n",
    "    while count < nterms: \n",
    "        print (n1)\n",
    "        nth = n1 + n2\n",
    "        # Update Values:\n",
    "        n1 = n2\n",
    "        n2 = nth\n",
    "        count += 1\n"
   ]
  },
  {
   "cell_type": "markdown",
   "id": "cd7d8edd",
   "metadata": {},
   "source": [
    "# Program 19\n",
    "\n",
    "Write a python program to check if the user's input is a Armstrong Number:\n",
    "\n",
    "Armstrong Number:\n",
    "- A number that is equal to the num of its own didgets, each raised to a power equal to the number of digets in the number\n",
    "\n",
    "Example:\n",
    "- It has three didgets (1, 5, and 3)\n",
    "- If we calculate 1^3 + 5^3 + 3^3, we get 1 + 125 + 27, which is equal to 153\n",
    "\n",
    "So, 153 is a Armstrong Number because it equals the sum of its didgits raised to the power of the number of didgets in the number.\n",
    "- 153 = 1, 5, 3"
   ]
  },
  {
   "cell_type": "code",
   "execution_count": 99,
   "id": "b74c8cfb",
   "metadata": {},
   "outputs": [
    {
     "name": "stdout",
     "output_type": "stream",
     "text": [
      "35 is not an Armstrong Number!\n"
     ]
    }
   ],
   "source": [
    "num = int(input(\"Enter a number: \"))\n",
    "\n",
    "# Calculate the number of digits in num\n",
    "num_str = str(num)\n",
    "num_digits = len(num_str)\n",
    "\n",
    "# Initialize variables:\n",
    "sum_of_powers = 0\n",
    "temp_num = num\n",
    "\n",
    "# Calculate the sum of digits raised to the power of num_digits\n",
    "while temp_num > 0:\n",
    "    digit = temp_num % 10\n",
    "    sum_of_powers += digit ** num_digits\n",
    "    temp_num //= 10\n",
    "\n",
    "# Check if it's an Armstrong Number:\n",
    "if sum_of_powers == num:\n",
    "    print(f\"{num} is an Armstrong Number!\")\n",
    "else:\n",
    "    print(f\"{num} is not an Armstrong Number!\")"
   ]
  }
 ],
 "metadata": {
  "kernelspec": {
   "display_name": "Python 3",
   "language": "python",
   "name": "python3"
  },
  "language_info": {
   "codemirror_mode": {
    "name": "ipython",
    "version": 3
   },
   "file_extension": ".py",
   "mimetype": "text/x-python",
   "name": "python",
   "nbconvert_exporter": "python",
   "pygments_lexer": "ipython3",
   "version": "3.11.2"
  }
 },
 "nbformat": 4,
 "nbformat_minor": 5
}
